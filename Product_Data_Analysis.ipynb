{
 "cells": [
  {
   "cell_type": "code",
   "execution_count": 53,
   "metadata": {},
   "outputs": [],
   "source": [
    "import pandas as pd\n",
    "import ydata_profiling\n",
    "from pandas.io.json import json_normalize\n",
    "import json"
   ]
  },
  {
   "cell_type": "markdown",
   "metadata": {
    "tags": []
   },
   "source": [
    "## Products data set "
   ]
  },
  {
   "cell_type": "code",
   "execution_count": 54,
   "metadata": {},
   "outputs": [],
   "source": [
    "df_products = pd.read_json(\"data/products.json.gz\")"
   ]
  },
  {
   "cell_type": "code",
   "execution_count": 55,
   "metadata": {},
   "outputs": [
    {
     "data": {
      "text/html": [
       "<div>\n",
       "<style scoped>\n",
       "    .dataframe tbody tr th:only-of-type {\n",
       "        vertical-align: middle;\n",
       "    }\n",
       "\n",
       "    .dataframe tbody tr th {\n",
       "        vertical-align: top;\n",
       "    }\n",
       "\n",
       "    .dataframe thead th {\n",
       "        text-align: right;\n",
       "    }\n",
       "</style>\n",
       "<table border=\"1\" class=\"dataframe\">\n",
       "  <thead>\n",
       "    <tr style=\"text-align: right;\">\n",
       "      <th></th>\n",
       "      <th>sku</th>\n",
       "      <th>name</th>\n",
       "      <th>type</th>\n",
       "      <th>price</th>\n",
       "      <th>upc</th>\n",
       "      <th>category</th>\n",
       "      <th>shipping</th>\n",
       "      <th>description</th>\n",
       "      <th>manufacturer</th>\n",
       "      <th>model</th>\n",
       "      <th>url</th>\n",
       "      <th>image</th>\n",
       "    </tr>\n",
       "  </thead>\n",
       "  <tbody>\n",
       "    <tr>\n",
       "      <th>0</th>\n",
       "      <td>43900</td>\n",
       "      <td>Duracell - AAA Batteries (4-Pack)</td>\n",
       "      <td>HardGood</td>\n",
       "      <td>5.49</td>\n",
       "      <td>41333424019</td>\n",
       "      <td>[{'id': 'pcmcat312300050015', 'name': 'Connect...</td>\n",
       "      <td>5.49</td>\n",
       "      <td>Compatible with select electronic devices; AAA...</td>\n",
       "      <td>Duracell</td>\n",
       "      <td>MN2400B4Z</td>\n",
       "      <td>http://www.bestbuy.com/site/duracell-aaa-batte...</td>\n",
       "      <td>http://img.bbystatic.com/BestBuy_US/images/pro...</td>\n",
       "    </tr>\n",
       "    <tr>\n",
       "      <th>1</th>\n",
       "      <td>48530</td>\n",
       "      <td>Duracell - AA 1.5V CopperTop Batteries (4-Pack)</td>\n",
       "      <td>HardGood</td>\n",
       "      <td>5.49</td>\n",
       "      <td>41333415017</td>\n",
       "      <td>[{'id': 'pcmcat312300050015', 'name': 'Connect...</td>\n",
       "      <td>5.49</td>\n",
       "      <td>Long-lasting energy; DURALOCK Power Preserve t...</td>\n",
       "      <td>Duracell</td>\n",
       "      <td>MN1500B4Z</td>\n",
       "      <td>http://www.bestbuy.com/site/duracell-aa-1-5v-c...</td>\n",
       "      <td>http://img.bbystatic.com/BestBuy_US/images/pro...</td>\n",
       "    </tr>\n",
       "    <tr>\n",
       "      <th>2</th>\n",
       "      <td>127687</td>\n",
       "      <td>Duracell - AA Batteries (8-Pack)</td>\n",
       "      <td>HardGood</td>\n",
       "      <td>7.49</td>\n",
       "      <td>41333825014</td>\n",
       "      <td>[{'id': 'pcmcat312300050015', 'name': 'Connect...</td>\n",
       "      <td>5.49</td>\n",
       "      <td>Compatible with select electronic devices; AA ...</td>\n",
       "      <td>Duracell</td>\n",
       "      <td>MN1500B8Z</td>\n",
       "      <td>http://www.bestbuy.com/site/duracell-aa-batter...</td>\n",
       "      <td>http://img.bbystatic.com/BestBuy_US/images/pro...</td>\n",
       "    </tr>\n",
       "  </tbody>\n",
       "</table>\n",
       "</div>"
      ],
      "text/plain": [
       "      sku                                             name      type  price  \\\n",
       "0   43900                Duracell - AAA Batteries (4-Pack)  HardGood   5.49   \n",
       "1   48530  Duracell - AA 1.5V CopperTop Batteries (4-Pack)  HardGood   5.49   \n",
       "2  127687                 Duracell - AA Batteries (8-Pack)  HardGood   7.49   \n",
       "\n",
       "           upc                                           category shipping  \\\n",
       "0  41333424019  [{'id': 'pcmcat312300050015', 'name': 'Connect...     5.49   \n",
       "1  41333415017  [{'id': 'pcmcat312300050015', 'name': 'Connect...     5.49   \n",
       "2  41333825014  [{'id': 'pcmcat312300050015', 'name': 'Connect...     5.49   \n",
       "\n",
       "                                         description manufacturer      model  \\\n",
       "0  Compatible with select electronic devices; AAA...     Duracell  MN2400B4Z   \n",
       "1  Long-lasting energy; DURALOCK Power Preserve t...     Duracell  MN1500B4Z   \n",
       "2  Compatible with select electronic devices; AA ...     Duracell  MN1500B8Z   \n",
       "\n",
       "                                                 url  \\\n",
       "0  http://www.bestbuy.com/site/duracell-aaa-batte...   \n",
       "1  http://www.bestbuy.com/site/duracell-aa-1-5v-c...   \n",
       "2  http://www.bestbuy.com/site/duracell-aa-batter...   \n",
       "\n",
       "                                               image  \n",
       "0  http://img.bbystatic.com/BestBuy_US/images/pro...  \n",
       "1  http://img.bbystatic.com/BestBuy_US/images/pro...  \n",
       "2  http://img.bbystatic.com/BestBuy_US/images/pro...  "
      ]
     },
     "execution_count": 55,
     "metadata": {},
     "output_type": "execute_result"
    }
   ],
   "source": [
    "df_products.head(3)"
   ]
  },
  {
   "cell_type": "markdown",
   "metadata": {},
   "source": [
    "##### Links/references: \n",
    "* https://bestbuyapis.github.io/api-documentation/#detail\n",
    "* https://bestbuyapis.github.io/bby-query-builder/#/productSearch"
   ]
  },
  {
   "cell_type": "markdown",
   "metadata": {},
   "source": [
    "#### Processing \"category\" column\n",
    "* As the **category** field consists of a list of nested jsons, we will process the column and create multiple columns for each category. "
   ]
  },
  {
   "cell_type": "code",
   "execution_count": 56,
   "metadata": {},
   "outputs": [
    {
     "name": "stderr",
     "output_type": "stream",
     "text": [
      "/opt/conda/lib/python3.7/site-packages/ipykernel_launcher.py:5: FutureWarning: pandas.io.json.json_normalize is deprecated, use pandas.json_normalize instead\n",
      "  \"\"\"\n"
     ]
    }
   ],
   "source": [
    "# Processing category field with json_normalize [http://pandas.pydata.org/pandas-docs/version/0.17.0/generated/pandas.io.json.json_normalize.html]\n",
    "# 1 min to process\n",
    "df_list = []\n",
    "for x in range(len(df_products)):\n",
    "    df_temp = json_normalize(df_products[\"category\"][x])\n",
    "    df_temp = df_temp.transpose()\n",
    "    df_temp = df_temp.drop([\"id\"])\n",
    "    df_temp = df_temp.rename(index={\"name\": x})\n",
    "    df_list.append(df_temp)\n",
    "df_category = pd.concat(df_list)\n",
    "df_products = df_products.join(df_category)\n",
    "# Delete temp dataframes..\n",
    "del df_list, df_temp, df_category\n",
    "# Renaming category column to respective fields\n",
    "df_products.rename(index=str, columns={0: \"Category_F1\", 1: \"Category_F2\", 2: \"Category_F3\", 3: \"Category_F4\", 4: \"Category_F5\", 5: \"Category_F6\", 6: \"Category_F7\"}, inplace=True)\n",
    "# Dropping columns that dont provide substantial information for analysis of data\n",
    "df_products.drop(['sku', 'upc','url', 'image','category'], axis=1, inplace=True)"
   ]
  },
  {
   "cell_type": "code",
   "execution_count": 57,
   "metadata": {},
   "outputs": [
    {
     "data": {
      "text/html": [
       "<div>\n",
       "<style scoped>\n",
       "    .dataframe tbody tr th:only-of-type {\n",
       "        vertical-align: middle;\n",
       "    }\n",
       "\n",
       "    .dataframe tbody tr th {\n",
       "        vertical-align: top;\n",
       "    }\n",
       "\n",
       "    .dataframe thead th {\n",
       "        text-align: right;\n",
       "    }\n",
       "</style>\n",
       "<table border=\"1\" class=\"dataframe\">\n",
       "  <thead>\n",
       "    <tr style=\"text-align: right;\">\n",
       "      <th></th>\n",
       "      <th>name</th>\n",
       "      <th>type</th>\n",
       "      <th>price</th>\n",
       "      <th>shipping</th>\n",
       "      <th>description</th>\n",
       "      <th>manufacturer</th>\n",
       "      <th>model</th>\n",
       "      <th>Category_F1</th>\n",
       "      <th>Category_F2</th>\n",
       "      <th>Category_F3</th>\n",
       "      <th>Category_F4</th>\n",
       "      <th>Category_F5</th>\n",
       "      <th>Category_F6</th>\n",
       "      <th>Category_F7</th>\n",
       "    </tr>\n",
       "  </thead>\n",
       "  <tbody>\n",
       "    <tr>\n",
       "      <th>0</th>\n",
       "      <td>Duracell - AAA Batteries (4-Pack)</td>\n",
       "      <td>HardGood</td>\n",
       "      <td>5.49</td>\n",
       "      <td>5.49</td>\n",
       "      <td>Compatible with select electronic devices; AAA...</td>\n",
       "      <td>Duracell</td>\n",
       "      <td>MN2400B4Z</td>\n",
       "      <td>Connected Home &amp; Housewares</td>\n",
       "      <td>Housewares</td>\n",
       "      <td>Household Batteries</td>\n",
       "      <td>Alkaline Batteries</td>\n",
       "      <td>NaN</td>\n",
       "      <td>NaN</td>\n",
       "      <td>NaN</td>\n",
       "    </tr>\n",
       "    <tr>\n",
       "      <th>1</th>\n",
       "      <td>Duracell - AA 1.5V CopperTop Batteries (4-Pack)</td>\n",
       "      <td>HardGood</td>\n",
       "      <td>5.49</td>\n",
       "      <td>5.49</td>\n",
       "      <td>Long-lasting energy; DURALOCK Power Preserve t...</td>\n",
       "      <td>Duracell</td>\n",
       "      <td>MN1500B4Z</td>\n",
       "      <td>Connected Home &amp; Housewares</td>\n",
       "      <td>Housewares</td>\n",
       "      <td>Household Batteries</td>\n",
       "      <td>Alkaline Batteries</td>\n",
       "      <td>NaN</td>\n",
       "      <td>NaN</td>\n",
       "      <td>NaN</td>\n",
       "    </tr>\n",
       "    <tr>\n",
       "      <th>2</th>\n",
       "      <td>Duracell - AA Batteries (8-Pack)</td>\n",
       "      <td>HardGood</td>\n",
       "      <td>7.49</td>\n",
       "      <td>5.49</td>\n",
       "      <td>Compatible with select electronic devices; AA ...</td>\n",
       "      <td>Duracell</td>\n",
       "      <td>MN1500B8Z</td>\n",
       "      <td>Connected Home &amp; Housewares</td>\n",
       "      <td>Housewares</td>\n",
       "      <td>Household Batteries</td>\n",
       "      <td>Alkaline Batteries</td>\n",
       "      <td>NaN</td>\n",
       "      <td>NaN</td>\n",
       "      <td>NaN</td>\n",
       "    </tr>\n",
       "  </tbody>\n",
       "</table>\n",
       "</div>"
      ],
      "text/plain": [
       "                                              name      type  price shipping  \\\n",
       "0                Duracell - AAA Batteries (4-Pack)  HardGood   5.49     5.49   \n",
       "1  Duracell - AA 1.5V CopperTop Batteries (4-Pack)  HardGood   5.49     5.49   \n",
       "2                 Duracell - AA Batteries (8-Pack)  HardGood   7.49     5.49   \n",
       "\n",
       "                                         description manufacturer      model  \\\n",
       "0  Compatible with select electronic devices; AAA...     Duracell  MN2400B4Z   \n",
       "1  Long-lasting energy; DURALOCK Power Preserve t...     Duracell  MN1500B4Z   \n",
       "2  Compatible with select electronic devices; AA ...     Duracell  MN1500B8Z   \n",
       "\n",
       "                   Category_F1 Category_F2          Category_F3  \\\n",
       "0  Connected Home & Housewares  Housewares  Household Batteries   \n",
       "1  Connected Home & Housewares  Housewares  Household Batteries   \n",
       "2  Connected Home & Housewares  Housewares  Household Batteries   \n",
       "\n",
       "          Category_F4 Category_F5 Category_F6 Category_F7  \n",
       "0  Alkaline Batteries         NaN         NaN         NaN  \n",
       "1  Alkaline Batteries         NaN         NaN         NaN  \n",
       "2  Alkaline Batteries         NaN         NaN         NaN  "
      ]
     },
     "execution_count": 57,
     "metadata": {},
     "output_type": "execute_result"
    }
   ],
   "source": [
    "df_products.head(3)"
   ]
  },
  {
   "cell_type": "code",
   "execution_count": 95,
   "metadata": {},
   "outputs": [
    {
     "data": {
      "text/plain": [
       "[{'name': 'Imagine Artist - PRE-OWNED - Nintendo DS',\n",
       "  'type': 'Game',\n",
       "  'price': 9.99,\n",
       "  'shipping': 3.99,\n",
       "  'description': 'Creativity is a thing of beauty',\n",
       "  'manufacturer': 'Ubisoft',\n",
       "  'model': None,\n",
       "  'Category_F1': 'Video Games',\n",
       "  'Category_F2': 'Pre-Owned Games',\n",
       "  'Category_F3': nan,\n",
       "  'Category_F4': nan,\n",
       "  'Category_F5': nan,\n",
       "  'Category_F6': nan,\n",
       "  'Category_F7': nan},\n",
       " {'name': 'Manhasset - Symphony Music Stand - Black',\n",
       "  'type': 'HardGood',\n",
       "  'price': 54.99,\n",
       "  'shipping': 0,\n",
       "  'description': 'MANHASSET Symphony Music Stand: ABS plastic desk construction; heavy-gauge steel welded base; greaseless chrome inner shaft; automatic friction-tilt neck; 26\" - 48\" adjustable height; textured finish',\n",
       "  'manufacturer': 'Manhasset',\n",
       "  'model': 'ST0084',\n",
       "  'Category_F1': 'Musical Instruments',\n",
       "  'Category_F2': 'Recording Equipment',\n",
       "  'Category_F3': 'Recording Furniture & Stands',\n",
       "  'Category_F4': 'Recording & Music Stands',\n",
       "  'Category_F5': nan,\n",
       "  'Category_F6': nan,\n",
       "  'Category_F7': nan},\n",
       " {'name': 'Premier - 20\" Freestanding Gas Range - Black',\n",
       "  'type': 'HardGood',\n",
       "  'price': 643.99,\n",
       "  'shipping': '',\n",
       "  'description': '2.4 cu. ft. capacity oven; 2 oven racks; 4 cooktop elements; broiler drawer',\n",
       "  'manufacturer': 'Premier',\n",
       "  'model': 'SAK100BP',\n",
       "  'Category_F1': 'Appliances',\n",
       "  'Category_F2': 'Ranges, Cooktops & Ovens',\n",
       "  'Category_F3': 'Ranges',\n",
       "  'Category_F4': 'Gas Ranges',\n",
       "  'Category_F5': nan,\n",
       "  'Category_F6': nan,\n",
       "  'Category_F7': nan},\n",
       " {'name': 'Philips Sonicare - 2 Series Plaque Control Electric Toothbrush - White/Blue',\n",
       "  'type': 'HardGood',\n",
       "  'price': 69.99,\n",
       "  'shipping': 0,\n",
       "  'description': 'Sonic technology; Smartimer 2-minute timer; easy-start function; 2-color battery charge indicator; up to 2 weeks of battery life',\n",
       "  'manufacturer': 'Philips Sonicare',\n",
       "  'model': 'HX6211/04',\n",
       "  'Category_F1': 'Health, Fitness & Beauty',\n",
       "  'Category_F2': 'Personal Care & Beauty',\n",
       "  'Category_F3': 'Oral Care',\n",
       "  'Category_F4': 'Electric Toothbrushes',\n",
       "  'Category_F5': nan,\n",
       "  'Category_F6': nan,\n",
       "  'Category_F7': nan},\n",
       " {'name': 'Samsung - 55\" Class (54.6\" Diag.) - LED - Curved - 2160p - Smart - 3D - 4K Ultra HD TV - Silver',\n",
       "  'type': 'HardGood',\n",
       "  'price': 1999.98,\n",
       "  'shipping': 32.99,\n",
       "  'description': '2160p resolutionClear Motion Rate 240Smart TV, Samsung Smart Hub, Web browser included3D TV',\n",
       "  'manufacturer': 'Samsung',\n",
       "  'model': 'UN55JU7500FXZA',\n",
       "  'Category_F1': 'TV & Home Theater',\n",
       "  'Category_F2': 'TVs',\n",
       "  'Category_F3': 'Curved TVs',\n",
       "  'Category_F4': nan,\n",
       "  'Category_F5': nan,\n",
       "  'Category_F6': nan,\n",
       "  'Category_F7': nan}]"
      ]
     },
     "execution_count": 95,
     "metadata": {},
     "output_type": "execute_result"
    }
   ],
   "source": [
    "# return random JSON records for analysis\n",
    "df_products.sample(n=5).to_dict(orient='records')"
   ]
  },
  {
   "cell_type": "code",
   "execution_count": 65,
   "metadata": {},
   "outputs": [
    {
     "data": {
      "text/plain": [
       "array(['Connected Home & Housewares', 'Carfi Instore Only',\n",
       "       'Car Electronics & GPS', 'In-Store Only', 'Musical Instruments',\n",
       "       'Toys, Games & Drones', 'Video Games', 'Cameras & Camcorders',\n",
       "       'Computers & Tablets', 'Appliances', 'Audio', 'TV & Home Theater',\n",
       "       'Health, Fitness & Beauty', 'Name Brands', 'Cell Phones',\n",
       "       'Movies & Music', 'Exclusives', 'Gadgets', 'Magnolia Home Theater',\n",
       "       'Geek Squad', 'Outlet Store', 'XBox_Buy2Get1_20130616',\n",
       "       'Accessories', 'MP Pending', 'Best Buy Gift Cards',\n",
       "       'H/VG_X360/Games/B2G1_20130602', 'Other Product Categories',\n",
       "       'Aluminum Tripods', 'Beverage & Wine Coolers', 'Furniture',\n",
       "       'MP Exclusives', 'AV Surge Protection', 'Wearable Technology',\n",
       "       'Gift Ideas', 'Poker Tables', 'Custom Parts', 'Remote Controls',\n",
       "       'Geek Squad Services', 'Video Switchers',\n",
       "       'Wireless Systems & Cameras', 'Bunk Beds & Mattresses',\n",
       "       'Karaoke Software', 'Freestanding Gas Ranges',\n",
       "       'Analog Audio Cables', 'Double Electric Wall Ovens',\n",
       "       'Single Electric Wall Ovens', 'Salamander Designs',\n",
       "       'Camcorder & Camera Batteries', 'Ink', 'Ink for Hewlett-Packard',\n",
       "       'Guitar Accessories', 'P&S Camera Chargers', 'Home',\n",
       "       'Voice Recognition Software', 'Wine Chillers', 'Casino',\n",
       "       'Headphones', 'Flight', 'Sports', 'Education', 'Board & Puzzle',\n",
       "       'Electric Bike & Scooter Accessories'], dtype=object)"
      ]
     },
     "execution_count": 65,
     "metadata": {},
     "output_type": "execute_result"
    }
   ],
   "source": [
    "# List categories for first categorical field in hierarchy\n",
    "df_products[\"Category_F1\"].unique()"
   ]
  },
  {
   "cell_type": "code",
   "execution_count": 64,
   "metadata": {},
   "outputs": [],
   "source": [
    "# df_products[\"Category_F2\"].unique()\n",
    "# df_products[\"Category_F3\"].unique()"
   ]
  },
  {
   "cell_type": "code",
   "execution_count": 63,
   "metadata": {},
   "outputs": [
    {
     "data": {
      "text/plain": [
       "[{'name': 'Jawbone - UP3 Activity Tracker + Heart Rate - Silver',\n",
       "  'type': 'HardGood',\n",
       "  'price': 179.99,\n",
       "  'shipping': 0,\n",
       "  'description': 'Fits most wrist sizesMeasures activity vs. inactivity, calories burned, distance traveled, resting heart rate, pace, sleep quality, speed and steps takenHeart rate monitorWorks with iOS and Android devices',\n",
       "  'manufacturer': 'Jawbone',\n",
       "  'model': 'JBUP3-SILVERCROSS',\n",
       "  'Category_F1': 'Health, Fitness & Beauty',\n",
       "  'Category_F2': 'Activity Trackers & Pedometers',\n",
       "  'Category_F3': nan,\n",
       "  'Category_F4': nan,\n",
       "  'Category_F5': nan,\n",
       "  'Category_F6': nan,\n",
       "  'Category_F7': nan},\n",
       " {'name': 'Remington - 4-in-1 Vacuum Hair Trimmer - Black/Blue',\n",
       "  'type': 'HardGood',\n",
       "  'price': 49.99,\n",
       "  'shipping': 0,\n",
       "  'description': 'Nose/ear trimmer; linear head attachment; foil shaver attachment; easy washout feature; includes travel pouch; water-resistant',\n",
       "  'manufacturer': 'Remington',\n",
       "  'model': 'VPG6530A',\n",
       "  'Category_F1': 'Health, Fitness & Beauty',\n",
       "  'Category_F2': 'Personal Care & Beauty',\n",
       "  'Category_F3': 'Shavers & Trimmers',\n",
       "  'Category_F4': 'Trimmers',\n",
       "  'Category_F5': nan,\n",
       "  'Category_F6': nan,\n",
       "  'Category_F7': nan},\n",
       " {'name': 'CHI - Air Texture Tourmaline Ceramic 1\" Curling Iron - Fire Red',\n",
       "  'type': 'HardGood',\n",
       "  'price': 59.99,\n",
       "  'shipping': 0,\n",
       "  'description': \"Tourmaline ceramic design; digital temperature control; Smooth Glide barrel; balanced antislip design; auto shutoff; heats up quickly; 9' swivel cord\",\n",
       "  'manufacturer': 'CHI',\n",
       "  'model': 'CA1033',\n",
       "  'Category_F1': 'Health, Fitness & Beauty',\n",
       "  'Category_F2': 'Personal Care & Beauty',\n",
       "  'Category_F3': 'Hair Care',\n",
       "  'Category_F4': 'Curling Irons',\n",
       "  'Category_F5': nan,\n",
       "  'Category_F6': nan,\n",
       "  'Category_F7': nan},\n",
       " {'name': 'Philips Norelco - 4700 Electric Shaver - Black/Silver',\n",
       "  'type': 'HardGood',\n",
       "  'price': 149.99,\n",
       "  'shipping': 0,\n",
       "  'description': 'DualPrecision heads; Aquatec technology; Pivot, Flex & Float System; integrated pop-up trimmer; lithium-ion battery; up to 50 minutes of run time after a 1-hour charge',\n",
       "  'manufacturer': 'Philips Norelco',\n",
       "  'model': 'AT875/41',\n",
       "  'Category_F1': 'Health, Fitness & Beauty',\n",
       "  'Category_F2': 'Personal Care & Beauty',\n",
       "  'Category_F3': 'Shavers & Trimmers',\n",
       "  'Category_F4': \"Men's Shavers\",\n",
       "  'Category_F5': nan,\n",
       "  'Category_F6': nan,\n",
       "  'Category_F7': nan},\n",
       " {'name': 'Comfort Products Inc. - Heated Shiatsu Massager - Gray',\n",
       "  'type': 'HardGood',\n",
       "  'price': 59.99,\n",
       "  'shipping': 0,\n",
       "  'description': 'COMFORT PRODUCTS INC. Heated Shiatsu Massager: Polyester and mesh construction; 4 massaging points; heat treatment; built-in heat-deactivation timer',\n",
       "  'manufacturer': 'Comfort Products Inc.',\n",
       "  'model': '60-2921P04',\n",
       "  'Category_F1': 'Health, Fitness & Beauty',\n",
       "  'Category_F2': 'Personal Care & Beauty',\n",
       "  'Category_F3': 'Massagers & Spa',\n",
       "  'Category_F4': nan,\n",
       "  'Category_F5': nan,\n",
       "  'Category_F6': nan,\n",
       "  'Category_F7': nan}]"
      ]
     },
     "execution_count": 63,
     "metadata": {},
     "output_type": "execute_result"
    }
   ],
   "source": [
    "# Return 5 random records under category -> Health, Fitness & Beauty\n",
    "df_products[df_products[\"Category_F1\"] == 'Health, Fitness & Beauty'].sample(n=5).to_dict(orient='records')"
   ]
  },
  {
   "cell_type": "markdown",
   "metadata": {},
   "source": [
    "## [Optional] Analysis of data\n",
    "* Tool used for explanation is ydata-profiling\n",
    "    * Link: https://github.com/ydataai/ydata-profiling\n",
    "* Some features of pandas-profiling:\n",
    "    * Generates a neat html report of a dataframe\n",
    "    * User can interactively explore attributes"
   ]
  },
  {
   "cell_type": "code",
   "execution_count": 5,
   "metadata": {},
   "outputs": [],
   "source": [
    "# optionally profile dataframe for an overview\n",
    "# ydata_profiling.ProfileReport(df_products)"
   ]
  },
  {
   "cell_type": "markdown",
   "metadata": {},
   "source": [
    "## Use raw data for creating Text embeddings which can be used for:\n",
    "\n",
    "* Semantic search: Search text ranked by semantic similarity.\n",
    "* Recommendation: Return items with text attributes similar to the given text.\n",
    "* Classification: Return the class of items whose text attributes are similar to the given text.\n",
    "* Clustering: Cluster items whose text attributes are similar to the given text.\n",
    "* Outlier Detection: Return items where text attributes are least related to the given text.\n",
    "\n",
    "Learn more here about creating embedding with [palm-api-example](https://github.com/GoogleCloudPlatform/generative-ai/blob/main/language/intro_palm_api.ipynb)\n"
   ]
  },
  {
   "cell_type": "code",
   "execution_count": 66,
   "metadata": {},
   "outputs": [],
   "source": [
    "import seaborn as sns\n",
    "from IPython.display import Markdown, display\n",
    "from sklearn.metrics.pairwise import cosine_similarity\n",
    "from vertexai.preview.language_models import (ChatModel, InputOutputTextPair,\n",
    "                                              TextEmbeddingModel,\n",
    "                                              TextGenerationModel)\n"
   ]
  },
  {
   "cell_type": "code",
   "execution_count": 67,
   "metadata": {},
   "outputs": [],
   "source": [
    "embedding_model = TextEmbeddingModel.from_pretrained(\"textembedding-gecko@001\")\n"
   ]
  },
  {
   "cell_type": "code",
   "execution_count": 68,
   "metadata": {},
   "outputs": [],
   "source": [
    "df_health_fitness_beauty = df_products[df_products[\"Category_F1\"] == 'Health, Fitness & Beauty'].sample(n=5)"
   ]
  },
  {
   "cell_type": "code",
   "execution_count": 72,
   "metadata": {},
   "outputs": [
    {
     "data": {
      "text/html": [
       "<div>\n",
       "<style scoped>\n",
       "    .dataframe tbody tr th:only-of-type {\n",
       "        vertical-align: middle;\n",
       "    }\n",
       "\n",
       "    .dataframe tbody tr th {\n",
       "        vertical-align: top;\n",
       "    }\n",
       "\n",
       "    .dataframe thead th {\n",
       "        text-align: right;\n",
       "    }\n",
       "</style>\n",
       "<table border=\"1\" class=\"dataframe\">\n",
       "  <thead>\n",
       "    <tr style=\"text-align: right;\">\n",
       "      <th></th>\n",
       "      <th>name</th>\n",
       "      <th>type</th>\n",
       "      <th>price</th>\n",
       "      <th>shipping</th>\n",
       "      <th>description</th>\n",
       "      <th>manufacturer</th>\n",
       "      <th>model</th>\n",
       "      <th>Category_F1</th>\n",
       "      <th>Category_F2</th>\n",
       "      <th>Category_F3</th>\n",
       "      <th>Category_F4</th>\n",
       "      <th>Category_F5</th>\n",
       "      <th>Category_F6</th>\n",
       "      <th>Category_F7</th>\n",
       "    </tr>\n",
       "  </thead>\n",
       "  <tbody>\n",
       "    <tr>\n",
       "      <th>8497</th>\n",
       "      <td>FHI Heat - RUNWAY IQ Perfect Session Roller Sy...</td>\n",
       "      <td>HardGood</td>\n",
       "      <td>199.99</td>\n",
       "      <td>0</td>\n",
       "      <td>FHI HEAT RUNWAY IQ Perfect Session Roller Syst...</td>\n",
       "      <td>FHI Heat</td>\n",
       "      <td>RW5008</td>\n",
       "      <td>Health, Fitness &amp; Beauty</td>\n",
       "      <td>Personal Care &amp; Beauty</td>\n",
       "      <td>Hair Care</td>\n",
       "      <td>Curlers</td>\n",
       "      <td>NaN</td>\n",
       "      <td>NaN</td>\n",
       "      <td>NaN</td>\n",
       "    </tr>\n",
       "    <tr>\n",
       "      <th>40404</th>\n",
       "      <td>Garmin - Forerunner 15 GPS Watch (Large) - Red...</td>\n",
       "      <td>HardGood</td>\n",
       "      <td>139.99</td>\n",
       "      <td>0</td>\n",
       "      <td>Fits wrists from 5.75\" to 9\"Measures activity ...</td>\n",
       "      <td>Garmin</td>\n",
       "      <td>010-01241-01</td>\n",
       "      <td>Health, Fitness &amp; Beauty</td>\n",
       "      <td>Fitness &amp; GPS Watches</td>\n",
       "      <td>NaN</td>\n",
       "      <td>NaN</td>\n",
       "      <td>NaN</td>\n",
       "      <td>NaN</td>\n",
       "      <td>NaN</td>\n",
       "    </tr>\n",
       "    <tr>\n",
       "      <th>25112</th>\n",
       "      <td>Fitbit - Blaze Smart Fitness Watch (Large) - B...</td>\n",
       "      <td>HardGood</td>\n",
       "      <td>199.95</td>\n",
       "      <td>0</td>\n",
       "      <td>Fits wrists from 6.7\" to 8.1\"Measures steps ta...</td>\n",
       "      <td>Fitbit</td>\n",
       "      <td>FB502SBKL</td>\n",
       "      <td>Health, Fitness &amp; Beauty</td>\n",
       "      <td>Activity Trackers &amp; Pedometers</td>\n",
       "      <td>NaN</td>\n",
       "      <td>NaN</td>\n",
       "      <td>NaN</td>\n",
       "      <td>NaN</td>\n",
       "      <td>NaN</td>\n",
       "    </tr>\n",
       "    <tr>\n",
       "      <th>46393</th>\n",
       "      <td>Philips Norelco - PowerTouch Wet and Dry Elect...</td>\n",
       "      <td>HardGood</td>\n",
       "      <td>89.99</td>\n",
       "      <td>0</td>\n",
       "      <td>AquaTec seal; washable, flexing DualPrecision ...</td>\n",
       "      <td>Philips Norelco</td>\n",
       "      <td>AT814/41</td>\n",
       "      <td>Health, Fitness &amp; Beauty</td>\n",
       "      <td>Personal Care &amp; Beauty</td>\n",
       "      <td>Shavers &amp; Trimmers</td>\n",
       "      <td>Trimmers</td>\n",
       "      <td>NaN</td>\n",
       "      <td>NaN</td>\n",
       "      <td>NaN</td>\n",
       "    </tr>\n",
       "    <tr>\n",
       "      <th>10333</th>\n",
       "      <td>Vidal Sassoon - 1875W Tourmaline Compact Trave...</td>\n",
       "      <td>HardGood</td>\n",
       "      <td>22.99</td>\n",
       "      <td>5.99</td>\n",
       "      <td>VIDAL SASSOON 1875W Tourmaline Compact Travel ...</td>\n",
       "      <td>Vidal Sassoon</td>\n",
       "      <td>VS784</td>\n",
       "      <td>Health, Fitness &amp; Beauty</td>\n",
       "      <td>Personal Care &amp; Beauty</td>\n",
       "      <td>Hair Care</td>\n",
       "      <td>Hair Dryers</td>\n",
       "      <td>NaN</td>\n",
       "      <td>NaN</td>\n",
       "      <td>NaN</td>\n",
       "    </tr>\n",
       "  </tbody>\n",
       "</table>\n",
       "</div>"
      ],
      "text/plain": [
       "                                                    name      type   price  \\\n",
       "8497   FHI Heat - RUNWAY IQ Perfect Session Roller Sy...  HardGood  199.99   \n",
       "40404  Garmin - Forerunner 15 GPS Watch (Large) - Red...  HardGood  139.99   \n",
       "25112  Fitbit - Blaze Smart Fitness Watch (Large) - B...  HardGood  199.95   \n",
       "46393  Philips Norelco - PowerTouch Wet and Dry Elect...  HardGood   89.99   \n",
       "10333  Vidal Sassoon - 1875W Tourmaline Compact Trave...  HardGood   22.99   \n",
       "\n",
       "      shipping                                        description  \\\n",
       "8497         0  FHI HEAT RUNWAY IQ Perfect Session Roller Syst...   \n",
       "40404        0  Fits wrists from 5.75\" to 9\"Measures activity ...   \n",
       "25112        0  Fits wrists from 6.7\" to 8.1\"Measures steps ta...   \n",
       "46393        0  AquaTec seal; washable, flexing DualPrecision ...   \n",
       "10333     5.99  VIDAL SASSOON 1875W Tourmaline Compact Travel ...   \n",
       "\n",
       "          manufacturer         model               Category_F1  \\\n",
       "8497          FHI Heat        RW5008  Health, Fitness & Beauty   \n",
       "40404           Garmin  010-01241-01  Health, Fitness & Beauty   \n",
       "25112           Fitbit     FB502SBKL  Health, Fitness & Beauty   \n",
       "46393  Philips Norelco      AT814/41  Health, Fitness & Beauty   \n",
       "10333    Vidal Sassoon         VS784  Health, Fitness & Beauty   \n",
       "\n",
       "                          Category_F2         Category_F3  Category_F4  \\\n",
       "8497           Personal Care & Beauty           Hair Care      Curlers   \n",
       "40404           Fitness & GPS Watches                 NaN          NaN   \n",
       "25112  Activity Trackers & Pedometers                 NaN          NaN   \n",
       "46393          Personal Care & Beauty  Shavers & Trimmers     Trimmers   \n",
       "10333          Personal Care & Beauty           Hair Care  Hair Dryers   \n",
       "\n",
       "      Category_F5 Category_F6 Category_F7  \n",
       "8497          NaN         NaN         NaN  \n",
       "40404         NaN         NaN         NaN  \n",
       "25112         NaN         NaN         NaN  \n",
       "46393         NaN         NaN         NaN  \n",
       "10333         NaN         NaN         NaN  "
      ]
     },
     "execution_count": 72,
     "metadata": {},
     "output_type": "execute_result"
    }
   ],
   "source": [
    "df_health_fitness_beauty"
   ]
  },
  {
   "cell_type": "code",
   "execution_count": 71,
   "metadata": {},
   "outputs": [
    {
     "data": {
      "text/plain": [
       "array(['FHI HEAT RUNWAY IQ Perfect Session Roller System Set: 8-second heating; 284-degree maximum temperature; compact unit design; includes 4 small, 4 medium and 4 large rollers and 12 roller grip clips',\n",
       "       'Fits wrists from 5.75\" to 9\"Measures activity vs. inactivity, calories burned, distance, sleep quality, speed and steps takenGPS enabledWaterproof design',\n",
       "       'Fits wrists from 6.7\" to 8.1\"Measures steps taken, distance traveled, and stairs climbedSmart notificationsCompatible with Android, iOS and Windows PhoneHi-res color LCD touch screenElastomer band',\n",
       "       'AquaTec seal; washable, flexing DualPrecision heads; Super Lift & Cut technology; SkinGlide system; pop-up trimmer; cordless design; slip-resistant grip',\n",
       "       'VIDAL SASSOON 1875W Tourmaline Compact Travel Hair Dryer: 1875W of power; Tourmaline ceramic technology; 2 heat/speed settings; cold-shot button; folding handle; dual-voltage design; airflow concentrator'],\n",
       "      dtype=object)"
      ]
     },
     "execution_count": 71,
     "metadata": {},
     "output_type": "execute_result"
    }
   ],
   "source": [
    "df_health_fitness_beauty.description.values"
   ]
  },
  {
   "cell_type": "code",
   "execution_count": 73,
   "metadata": {},
   "outputs": [],
   "source": [
    "df_health_fitness_beauty[\"embeddings\"] = [\n",
    "    emb.values for emb in embedding_model.get_embeddings(df_health_fitness_beauty.description.values)\n",
    "]\n"
   ]
  },
  {
   "cell_type": "code",
   "execution_count": 76,
   "metadata": {},
   "outputs": [
    {
     "data": {
      "text/html": [
       "<div>\n",
       "<style scoped>\n",
       "    .dataframe tbody tr th:only-of-type {\n",
       "        vertical-align: middle;\n",
       "    }\n",
       "\n",
       "    .dataframe tbody tr th {\n",
       "        vertical-align: top;\n",
       "    }\n",
       "\n",
       "    .dataframe thead th {\n",
       "        text-align: right;\n",
       "    }\n",
       "</style>\n",
       "<table border=\"1\" class=\"dataframe\">\n",
       "  <thead>\n",
       "    <tr style=\"text-align: right;\">\n",
       "      <th></th>\n",
       "      <th>description</th>\n",
       "      <th>embeddings</th>\n",
       "    </tr>\n",
       "  </thead>\n",
       "  <tbody>\n",
       "    <tr>\n",
       "      <th>8497</th>\n",
       "      <td>FHI HEAT RUNWAY IQ Perfect Session Roller Syst...</td>\n",
       "      <td>[-0.022047631442546844, -0.0170704647898674, 0...</td>\n",
       "    </tr>\n",
       "    <tr>\n",
       "      <th>40404</th>\n",
       "      <td>Fits wrists from 5.75\" to 9\"Measures activity ...</td>\n",
       "      <td>[0.033669061958789825, 0.007567955646663904, 0...</td>\n",
       "    </tr>\n",
       "    <tr>\n",
       "      <th>25112</th>\n",
       "      <td>Fits wrists from 6.7\" to 8.1\"Measures steps ta...</td>\n",
       "      <td>[0.004225388169288635, 0.006953661795705557, 0...</td>\n",
       "    </tr>\n",
       "    <tr>\n",
       "      <th>46393</th>\n",
       "      <td>AquaTec seal; washable, flexing DualPrecision ...</td>\n",
       "      <td>[0.00800141878426075, 0.018349215388298035, 0....</td>\n",
       "    </tr>\n",
       "    <tr>\n",
       "      <th>10333</th>\n",
       "      <td>VIDAL SASSOON 1875W Tourmaline Compact Travel ...</td>\n",
       "      <td>[-0.014383732341229916, 0.013423227705061436, ...</td>\n",
       "    </tr>\n",
       "  </tbody>\n",
       "</table>\n",
       "</div>"
      ],
      "text/plain": [
       "                                             description  \\\n",
       "8497   FHI HEAT RUNWAY IQ Perfect Session Roller Syst...   \n",
       "40404  Fits wrists from 5.75\" to 9\"Measures activity ...   \n",
       "25112  Fits wrists from 6.7\" to 8.1\"Measures steps ta...   \n",
       "46393  AquaTec seal; washable, flexing DualPrecision ...   \n",
       "10333  VIDAL SASSOON 1875W Tourmaline Compact Travel ...   \n",
       "\n",
       "                                              embeddings  \n",
       "8497   [-0.022047631442546844, -0.0170704647898674, 0...  \n",
       "40404  [0.033669061958789825, 0.007567955646663904, 0...  \n",
       "25112  [0.004225388169288635, 0.006953661795705557, 0...  \n",
       "46393  [0.00800141878426075, 0.018349215388298035, 0....  \n",
       "10333  [-0.014383732341229916, 0.013423227705061436, ...  "
      ]
     },
     "execution_count": 76,
     "metadata": {},
     "output_type": "execute_result"
    }
   ],
   "source": [
    "df_health_fitness_beauty[[\"description\",\"embeddings\"]]"
   ]
  },
  {
   "cell_type": "markdown",
   "metadata": {},
   "source": [
    "## Comparing similarity of text examples using cosine similarity"
   ]
  },
  {
   "cell_type": "code",
   "execution_count": 86,
   "metadata": {},
   "outputs": [
    {
     "data": {
      "text/plain": [
       "array(['FHI HEAT RUNWAY IQ Perfect Session Roller System Set: 8-second heating; 284-degree maximum temperature; compact unit design; includes 4 small, 4 medium and 4 large rollers and 12 roller grip clips',\n",
       "       'Fits wrists from 5.75\" to 9\"Measures activity vs. inactivity, calories burned, distance, sleep quality, speed and steps takenGPS enabledWaterproof design',\n",
       "       'Fits wrists from 6.7\" to 8.1\"Measures steps taken, distance traveled, and stairs climbedSmart notificationsCompatible with Android, iOS and Windows PhoneHi-res color LCD touch screenElastomer band',\n",
       "       'AquaTec seal; washable, flexing DualPrecision heads; Super Lift & Cut technology; SkinGlide system; pop-up trimmer; cordless design; slip-resistant grip',\n",
       "       'VIDAL SASSOON 1875W Tourmaline Compact Travel Hair Dryer: 1875W of power; Tourmaline ceramic technology; 2 heat/speed settings; cold-shot button; folding handle; dual-voltage design; airflow concentrator'],\n",
       "      dtype=object)"
      ]
     },
     "execution_count": 86,
     "metadata": {},
     "output_type": "execute_result"
    }
   ],
   "source": [
    "df_health_fitness_beauty.description.values"
   ]
  },
  {
   "cell_type": "code",
   "execution_count": 98,
   "metadata": {},
   "outputs": [],
   "source": [
    "# cos_sim_array = cosine_similarity(list(df_health_fitness_beauty.embeddings.values))"
   ]
  },
  {
   "cell_type": "code",
   "execution_count": 96,
   "metadata": {},
   "outputs": [],
   "source": [
    "# # display as DataFrame\n",
    "# df = pd.DataFrame(cos_sim_array, index=df_health_fitness_beauty.description.values, columns=df_health_fitness_beauty.description.values)\n",
    "# df"
   ]
  },
  {
   "cell_type": "code",
   "execution_count": 97,
   "metadata": {},
   "outputs": [],
   "source": [
    "# ax = sns.heatmap(df, annot=True, cmap=\"crest\")\n",
    "# ax.xaxis.tick_top()\n",
    "# ax.set_xticklabels(df_health_fitness_beauty.description.values, rotation=90)"
   ]
  }
 ],
 "metadata": {
  "environment": {
   "kernel": "python3",
   "name": "common-cpu.m107",
   "type": "gcloud",
   "uri": "gcr.io/deeplearning-platform-release/base-cpu:m107"
  },
  "kernelspec": {
   "display_name": "Python 3",
   "language": "python",
   "name": "python3"
  },
  "language_info": {
   "codemirror_mode": {
    "name": "ipython",
    "version": 3
   },
   "file_extension": ".py",
   "mimetype": "text/x-python",
   "name": "python",
   "nbconvert_exporter": "python",
   "pygments_lexer": "ipython3",
   "version": "3.7.12"
  }
 },
 "nbformat": 4,
 "nbformat_minor": 4
}
